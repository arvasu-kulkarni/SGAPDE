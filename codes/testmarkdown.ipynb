{
 "cells": [
  {
   "cell_type": "markdown",
   "metadata": {},
   "source": [
    "$$\\frac{\\partial c}{\\partial t} = \\nabla\\cdot M\\nabla\\mu,\\quad \\mu = \\frac{df}{dc} - \\kappa \\nabla^2 c$$\n",
    "\n",
    "$\\mu$ is an auxilliary variable, $M$ is mobility, $\\kappa$ is gradient energy coefficient (penalty). If we substitute\n",
    "$f(c) = c^2(1-c)^2$ and $M = 1$ and $\\kappa = 0.5$,\n",
    "$$c_t = \\nabla^2(2c - 6c^2 + 4c^3) - 0.5\\nabla^4 c$$\n",
    "which in two dimensions is\n",
    "$$c_t = 2c_{xx} + 2c_{yy} - 6c^2_{xx} - 6c^2_{yy} + 4c^3_{xx} + 4c^3_{yy} - 0.5c_{xxxx} + 1c_{xxyy} -0.5c_{yyyy}$$"
   ]
  },
  {
   "cell_type": "markdown",
   "metadata": {},
   "source": [
    "$$u^{1}_{t} = 0.247332u^{1}_{yy} + -0.00715941u^{1}_{yyyy} + 0.257296u^{1}_{xx} + -0.0138714u^{1}_{xxyy} +\\\\ -0.00739757u^{1}_{xxxx} + -0.746066u^{2}_{yy} + -0.765797u^{2}_{xx} + 0.493687u^{3}_{yy} + 0.504273u^{3}_{xx}$$"
   ]
  }
 ],
 "metadata": {
  "language_info": {
   "name": "python"
  }
 },
 "nbformat": 4,
 "nbformat_minor": 2
}
